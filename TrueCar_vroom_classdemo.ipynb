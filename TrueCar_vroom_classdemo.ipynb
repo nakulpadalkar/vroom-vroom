{
 "cells": [
  {
   "cell_type": "code",
   "execution_count": 1,
   "id": "4ab0c3f0",
   "metadata": {},
   "outputs": [
    {
     "data": {
      "application/vnd.microsoft.datawrangler.viewer.v0+json": {
       "columns": [
        {
         "name": "index",
         "rawType": "int64",
         "type": "integer"
        },
        {
         "name": "url",
         "rawType": "object",
         "type": "string"
        },
        {
         "name": "exterior",
         "rawType": "object",
         "type": "string"
        },
        {
         "name": "interior",
         "rawType": "object",
         "type": "string"
        },
        {
         "name": "mileage",
         "rawType": "object",
         "type": "string"
        },
        {
         "name": "fuel_type",
         "rawType": "object",
         "type": "string"
        },
        {
         "name": "listed_since",
         "rawType": "object",
         "type": "string"
        },
        {
         "name": "vin",
         "rawType": "object",
         "type": "string"
        },
        {
         "name": "stock_number",
         "rawType": "object",
         "type": "unknown"
        },
        {
         "name": "list_price",
         "rawType": "object",
         "type": "string"
        },
        {
         "name": "average_list_price",
         "rawType": "object",
         "type": "string"
        },
        {
         "name": "price_range_excellent",
         "rawType": "object",
         "type": "string"
        },
        {
         "name": "price_range_great",
         "rawType": "object",
         "type": "string"
        },
        {
         "name": "price_range_fair",
         "rawType": "object",
         "type": "string"
        },
        {
         "name": "price_range_high",
         "rawType": "object",
         "type": "string"
        },
        {
         "name": "price_description",
         "rawType": "object",
         "type": "string"
        },
        {
         "name": "seller_notes",
         "rawType": "object",
         "type": "unknown"
        },
        {
         "name": "epa_range",
         "rawType": "object",
         "type": "unknown"
        }
       ],
       "conversionMethod": "pd.DataFrame",
       "ref": "272bfb2c-48f8-4569-8717-b94b185ff9b0",
       "rows": [
        [
         "0",
         "https://www.truecar.com/used-cars-for-sale/listing/1FTEW1CP2PKD61358/2023-ford-f-150/?position=0&returnTo=%2Fused-cars-for-sale%2Flistings%2Flocation-boston-ma%2F%3Fpage%3D1&sourceType=marketplace&sponsored=true&zipcode=02062",
         "Black",
         "Black",
         "North Attleborough, MA (0 miles away)",
         "Gas",
         "Listed 3 days ago",
         "1FTEW1CP2PKD61358",
         "26893059",
         "$29,998",
         "$35,702",
         "Below $33,917",
         "$33,917 - $35,345",
         "$35,345 - $36,773",
         "Above $36,773",
         "The list price of$29,998for this2023 Ford F‑150isanexcellentprice! The average list price for similar models is$35,702.Learn More",
         "CarMax values transparency and wants you to love your next car, not settle on it. Certain vehicles may have unrepaired safety recalls. Check nhtsa.gov/recalls to learn if this vehicle has an unrepaired safety recall. At CarMax, finding the right car is easy. You can shop online, get pre-qualified with no impact to your credit, and receive a trade-in offer all from the comfort of home. See carmax.com for details. Then, when it's time to buy, you can take advantage of express pickup at your local CarMax. And we stand behind every used car we sell with a 90-Day/4,000-Mile (whichever comes first) Limited Warranty. See store for details. Price excludes tax, title, and tags. Price assumes that final purchase will be made in the State of MA, unless vehicle is non-transferable. Vehicle subject to prior sale. Applicable transfer fees are due in advance of vehicle delivery and are separate from sales transactions. Inventory shown here is updated every 24 hours.",
         null
        ],
        [
         "1",
         "https://www.truecar.com/used-cars-for-sale/listing/1FTBR1Y86PKA51502/2023-ford-transit-cargo-van/?position=1&returnTo=%2Fused-cars-for-sale%2Flistings%2Flocation-boston-ma%2F%3Fpage%3D1&sourceType=marketplace&sponsored=true",
         "Oxford White",
         "Ebony",
         "Stoneham, MA (3 miles away)",
         "Gas",
         "Listed 32 days ago",
         "1FTBR1Y86PKA51502",
         "23125P",
         "$35,990",
         "$39,911",
         "Below $37,915",
         "$37,915 - $39,511",
         "$39,511 - $41,108",
         "Above $41,108",
         "The list price of$35,990for this2023 Ford Transit Cargo Vanisanexcellentprice! The average list price for similar models is$39,911.Learn More",
         "This Ford Transit Cargo Van delivers a Regular Unleaded V-6 3.5 L/213 engine powering this Automatic transmission. ENGINE: 3.5L PFDI V6 FLEX-FUEL -inc: port injection and auto start-stop technology (STD), Wheels: 16 Silver Steel w/Black Hubcap, Vinyl Front Bucket Seats.*This Ford Transit Cargo Van Comes Equipped with These Options *Variable Intermittent Wipers, Urethane Gear Shifter Material, Transmission: 10-Spd Automatic w/OD & SelectShift -inc: auxiliary transmission oil cooler, Tires: 235/65R16C 121/119 R AS BSW, Tailgate/Rear Door Lock Included w/Power Door Locks, Strut Front Suspension w/Coil Springs, Streaming Audio, Steel Spare Wheel, Split Swing-Out Rear Cargo Access, Solid Axle Rear Suspension w/Leaf Springs.* Visit Us Today *A short visit to Stoneham Ford located at 211 Main St, Stoneham, MA 02180 can get you a dependable Transit Cargo Van today!",
         null
        ],
        [
         "2",
         "https://www.truecar.com/used-cars-for-sale/listing/1C4HJXDG4LW103150/2020-jeep-wrangler/?position=2&returnTo=%2Fused-cars-for-sale%2Flistings%2Flocation-boston-ma%2F%3Fpage%3D1&sourceType=marketplace&sponsored=true",
         "Granite Crystal Metallic Clearcoat",
         "Black",
         "Reading, MA (1 miles away)",
         "Gas",
         "Listed 68 days ago",
         "1C4HJXDG4LW103150",
         "SE067231A",
         "$19,250",
         "$21,683",
         "Below $20,599",
         "$20,599 - $21,466",
         "$21,466 - $22,333",
         "Above $22,333",
         "The list price of$19,250for this2020 Jeep Wranglerisanexcellentprice! The average list price for similar models is$21,683.Learn More",
         "RT 128 Honda is proud to present you with another True Market Priced Pre-Owned Vehicle. This 2020 Jeep Wrangler Unlimited Sport S is loaded with the following Factory Options: Cold Weather Group, Convenience Group, Quick Order Package 24S Sport S (Power Heated Mirrors and Wheels: 17\" x 7.5\" Tech Silver Aluminum), Technology Group (Google Android Auto, Radio: Uconnect 4 w/7\" Display, and SiriusXM Satellite Radio), 3.45 Rear Axle Ratio, 4-Wheel Disc Brakes, 8 Speakers, ABS brakes, Air Conditioning, AM/FM radio, Anti-Spin Differential Rear Axle, Apple CarPlay (DISC), Aux Battery, Black 3-Piece Hard Top, Brake assist, Cloth Low-Back Bucket Seats, Compass, Delay-off headlights, Driver door bin, Driver vanity mirror, Dual front impact airbags, Dual front side impact airbags, Electronic Stability Control, Front anti-roll bar, Front Bucket Seats, Front Center Armrest w/Storage, Front fog lights, Front reading lights, Google Android Auto (DISC), Integrated roll-over protection, Integrated Voice Command w/Bluetooth, Low tire pressure warning, Manufacturer's Statement of Origin, No Soft Top, Non-Lock Fuel Cap w/o Discriminator, Normal Duty Suspension, Occupant sensing airbag, Outside temperature display, ParkView Rear Back-Up Camera, Passenger door bin, Passenger vanity mirror, Power steering, Radio data system, Radio: Uconnect 3 w/5\" Display, Rear anti-roll bar, Rear reading lights, Speed control, Split folding rear seat, Steering wheel mounted audio controls, Stop-Start Dual Battery System, Tachometer, Telescoping steering wheel, Tilt steering wheel, Traction control, Trip computer, Variably intermittent wipers, and Wheels: 17\" x 7.5\" Black Steel Styled!! Every *Used Vehicle comes with our exclusive lifetime powertrain warranty. *Used vehicle warranty is on asian and domestic vehicles under 10 years old and with less than 100,000 miles at time of purchase. See dealer for details.  Route 128 Honda is home to one of Massachusetts largest collection of new Honda models for sale and also boasts a large inventory of used cars for sale as well. Our state of the art facility is designed to make shopping and servicing any new or used cars a breeze. Regardless of your lifestyle, you can be assured that you will get access to the best Honda lease offers and Honda Service professionals in the Boston area. Every inch of our dealership was designed with your satisfaction from the very beginning. Whether you are enjoying the modern comforts of our customer lounge or, browsing our extensive inventory of new and used Honda models for sale. You can be sure that once you visit Route 128 Honda, no other dealership will ever compare.",
         null
        ],
        [
         "3",
         "https://www.truecar.com/used-cars-for-sale/listing/5N1AL0MM0DC348728/2013-infiniti-jx35/?position=3&returnTo=%2Fused-cars-for-sale%2Flistings%2Flocation-boston-ma%2F%3Fpage%3D1&sourceType=marketplace",
         "Diamond Slate",
         "Graphite",
         "Somerville, MA (11 miles away)",
         "Gas",
         "Listed 14 days ago",
         "5N1AL0MM0DC348728",
         "348728",
         "$8,995",
         "$11,325",
         "Below $10,758",
         "$10,758 - $11,211",
         "$11,211 - $11,664",
         "Above $11,664",
         "The list price of$8,995for this2013 INFINITI JX35isanexcellentprice! The average list price for similar models is$11,325.Learn More",
         null,
         null
        ],
        [
         "4",
         "https://www.truecar.com/used-cars-for-sale/listing/5NPDH4AE7DH254907/2013-hyundai-elantra/?position=4&returnTo=%2Fused-cars-for-sale%2Flistings%2Flocation-boston-ma%2F%3Fpage%3D1&sourceType=marketplace",
         "Shimmering White",
         "Beige",
         "Waltham, MA (13 miles away)",
         "Gas",
         "Listed 18 days ago",
         "5NPDH4AE7DH254907",
         null,
         "$8,998",
         "$11,724",
         "Below $11,137",
         "$11,137 - $11,606",
         "$11,606 - $12,075",
         "Above $12,075",
         "The list price of$8,998for this2013 Hyundai Elantraisanexcellentprice! The average list price for similar models is$11,724.Learn More",
         "Automatic Transmisiion.A well-maintained, super low mileage  vehicle comes fully equipped with all power options, running and driving great.   The paint is in great shape and condition.  The interior was well maintained and is extra clean.  The exterior was well maintained and is extra clean.  The engine is functioning properly and has no issues.  The transmission shifts very smoothly.  The brakes are in great condition.  The battery is in excellent condition. A non-smoker previously owned the car.",
         null
        ]
       ],
       "shape": {
        "columns": 17,
        "rows": 5
       }
      },
      "text/html": [
       "<div>\n",
       "<style scoped>\n",
       "    .dataframe tbody tr th:only-of-type {\n",
       "        vertical-align: middle;\n",
       "    }\n",
       "\n",
       "    .dataframe tbody tr th {\n",
       "        vertical-align: top;\n",
       "    }\n",
       "\n",
       "    .dataframe thead th {\n",
       "        text-align: right;\n",
       "    }\n",
       "</style>\n",
       "<table border=\"1\" class=\"dataframe\">\n",
       "  <thead>\n",
       "    <tr style=\"text-align: right;\">\n",
       "      <th></th>\n",
       "      <th>url</th>\n",
       "      <th>exterior</th>\n",
       "      <th>interior</th>\n",
       "      <th>mileage</th>\n",
       "      <th>fuel_type</th>\n",
       "      <th>listed_since</th>\n",
       "      <th>vin</th>\n",
       "      <th>stock_number</th>\n",
       "      <th>list_price</th>\n",
       "      <th>average_list_price</th>\n",
       "      <th>price_range_excellent</th>\n",
       "      <th>price_range_great</th>\n",
       "      <th>price_range_fair</th>\n",
       "      <th>price_range_high</th>\n",
       "      <th>price_description</th>\n",
       "      <th>seller_notes</th>\n",
       "      <th>epa_range</th>\n",
       "    </tr>\n",
       "  </thead>\n",
       "  <tbody>\n",
       "    <tr>\n",
       "      <th>0</th>\n",
       "      <td>https://www.truecar.com/used-cars-for-sale/lis...</td>\n",
       "      <td>Black</td>\n",
       "      <td>Black</td>\n",
       "      <td>North Attleborough, MA (0 miles away)</td>\n",
       "      <td>Gas</td>\n",
       "      <td>Listed 3 days ago</td>\n",
       "      <td>1FTEW1CP2PKD61358</td>\n",
       "      <td>26893059</td>\n",
       "      <td>$29,998</td>\n",
       "      <td>$35,702</td>\n",
       "      <td>Below $33,917</td>\n",
       "      <td>$33,917 - $35,345</td>\n",
       "      <td>$35,345 - $36,773</td>\n",
       "      <td>Above $36,773</td>\n",
       "      <td>The list price of$29,998for this2023 Ford F‑15...</td>\n",
       "      <td>CarMax values transparency and wants you to lo...</td>\n",
       "      <td>NaN</td>\n",
       "    </tr>\n",
       "    <tr>\n",
       "      <th>1</th>\n",
       "      <td>https://www.truecar.com/used-cars-for-sale/lis...</td>\n",
       "      <td>Oxford White</td>\n",
       "      <td>Ebony</td>\n",
       "      <td>Stoneham, MA (3 miles away)</td>\n",
       "      <td>Gas</td>\n",
       "      <td>Listed 32 days ago</td>\n",
       "      <td>1FTBR1Y86PKA51502</td>\n",
       "      <td>23125P</td>\n",
       "      <td>$35,990</td>\n",
       "      <td>$39,911</td>\n",
       "      <td>Below $37,915</td>\n",
       "      <td>$37,915 - $39,511</td>\n",
       "      <td>$39,511 - $41,108</td>\n",
       "      <td>Above $41,108</td>\n",
       "      <td>The list price of$35,990for this2023 Ford Tran...</td>\n",
       "      <td>This Ford Transit Cargo Van delivers a Regular...</td>\n",
       "      <td>NaN</td>\n",
       "    </tr>\n",
       "    <tr>\n",
       "      <th>2</th>\n",
       "      <td>https://www.truecar.com/used-cars-for-sale/lis...</td>\n",
       "      <td>Granite Crystal Metallic Clearcoat</td>\n",
       "      <td>Black</td>\n",
       "      <td>Reading, MA (1 miles away)</td>\n",
       "      <td>Gas</td>\n",
       "      <td>Listed 68 days ago</td>\n",
       "      <td>1C4HJXDG4LW103150</td>\n",
       "      <td>SE067231A</td>\n",
       "      <td>$19,250</td>\n",
       "      <td>$21,683</td>\n",
       "      <td>Below $20,599</td>\n",
       "      <td>$20,599 - $21,466</td>\n",
       "      <td>$21,466 - $22,333</td>\n",
       "      <td>Above $22,333</td>\n",
       "      <td>The list price of$19,250for this2020 Jeep Wran...</td>\n",
       "      <td>RT 128 Honda is proud to present you with anot...</td>\n",
       "      <td>NaN</td>\n",
       "    </tr>\n",
       "    <tr>\n",
       "      <th>3</th>\n",
       "      <td>https://www.truecar.com/used-cars-for-sale/lis...</td>\n",
       "      <td>Diamond Slate</td>\n",
       "      <td>Graphite</td>\n",
       "      <td>Somerville, MA (11 miles away)</td>\n",
       "      <td>Gas</td>\n",
       "      <td>Listed 14 days ago</td>\n",
       "      <td>5N1AL0MM0DC348728</td>\n",
       "      <td>348728</td>\n",
       "      <td>$8,995</td>\n",
       "      <td>$11,325</td>\n",
       "      <td>Below $10,758</td>\n",
       "      <td>$10,758 - $11,211</td>\n",
       "      <td>$11,211 - $11,664</td>\n",
       "      <td>Above $11,664</td>\n",
       "      <td>The list price of$8,995for this2013 INFINITI J...</td>\n",
       "      <td>NaN</td>\n",
       "      <td>NaN</td>\n",
       "    </tr>\n",
       "    <tr>\n",
       "      <th>4</th>\n",
       "      <td>https://www.truecar.com/used-cars-for-sale/lis...</td>\n",
       "      <td>Shimmering White</td>\n",
       "      <td>Beige</td>\n",
       "      <td>Waltham, MA (13 miles away)</td>\n",
       "      <td>Gas</td>\n",
       "      <td>Listed 18 days ago</td>\n",
       "      <td>5NPDH4AE7DH254907</td>\n",
       "      <td>NaN</td>\n",
       "      <td>$8,998</td>\n",
       "      <td>$11,724</td>\n",
       "      <td>Below $11,137</td>\n",
       "      <td>$11,137 - $11,606</td>\n",
       "      <td>$11,606 - $12,075</td>\n",
       "      <td>Above $12,075</td>\n",
       "      <td>The list price of$8,998for this2013 Hyundai El...</td>\n",
       "      <td>Automatic Transmisiion.A well-maintained, supe...</td>\n",
       "      <td>NaN</td>\n",
       "    </tr>\n",
       "  </tbody>\n",
       "</table>\n",
       "</div>"
      ],
      "text/plain": [
       "                                                 url  \\\n",
       "0  https://www.truecar.com/used-cars-for-sale/lis...   \n",
       "1  https://www.truecar.com/used-cars-for-sale/lis...   \n",
       "2  https://www.truecar.com/used-cars-for-sale/lis...   \n",
       "3  https://www.truecar.com/used-cars-for-sale/lis...   \n",
       "4  https://www.truecar.com/used-cars-for-sale/lis...   \n",
       "\n",
       "                             exterior  interior  \\\n",
       "0                               Black     Black   \n",
       "1                        Oxford White     Ebony   \n",
       "2  Granite Crystal Metallic Clearcoat     Black   \n",
       "3                       Diamond Slate  Graphite   \n",
       "4                    Shimmering White     Beige   \n",
       "\n",
       "                                 mileage fuel_type        listed_since  \\\n",
       "0  North Attleborough, MA (0 miles away)       Gas   Listed 3 days ago   \n",
       "1            Stoneham, MA (3 miles away)       Gas  Listed 32 days ago   \n",
       "2             Reading, MA (1 miles away)       Gas  Listed 68 days ago   \n",
       "3         Somerville, MA (11 miles away)       Gas  Listed 14 days ago   \n",
       "4            Waltham, MA (13 miles away)       Gas  Listed 18 days ago   \n",
       "\n",
       "                 vin stock_number list_price average_list_price  \\\n",
       "0  1FTEW1CP2PKD61358     26893059    $29,998            $35,702   \n",
       "1  1FTBR1Y86PKA51502       23125P    $35,990            $39,911   \n",
       "2  1C4HJXDG4LW103150    SE067231A    $19,250            $21,683   \n",
       "3  5N1AL0MM0DC348728       348728     $8,995            $11,325   \n",
       "4  5NPDH4AE7DH254907          NaN     $8,998            $11,724   \n",
       "\n",
       "  price_range_excellent  price_range_great   price_range_fair  \\\n",
       "0         Below $33,917  $33,917 - $35,345  $35,345 - $36,773   \n",
       "1         Below $37,915  $37,915 - $39,511  $39,511 - $41,108   \n",
       "2         Below $20,599  $20,599 - $21,466  $21,466 - $22,333   \n",
       "3         Below $10,758  $10,758 - $11,211  $11,211 - $11,664   \n",
       "4         Below $11,137  $11,137 - $11,606  $11,606 - $12,075   \n",
       "\n",
       "  price_range_high                                  price_description  \\\n",
       "0    Above $36,773  The list price of$29,998for this2023 Ford F‑15...   \n",
       "1    Above $41,108  The list price of$35,990for this2023 Ford Tran...   \n",
       "2    Above $22,333  The list price of$19,250for this2020 Jeep Wran...   \n",
       "3    Above $11,664  The list price of$8,995for this2013 INFINITI J...   \n",
       "4    Above $12,075  The list price of$8,998for this2013 Hyundai El...   \n",
       "\n",
       "                                        seller_notes epa_range  \n",
       "0  CarMax values transparency and wants you to lo...       NaN  \n",
       "1  This Ford Transit Cargo Van delivers a Regular...       NaN  \n",
       "2  RT 128 Honda is proud to present you with anot...       NaN  \n",
       "3                                                NaN       NaN  \n",
       "4  Automatic Transmisiion.A well-maintained, supe...       NaN  "
      ]
     },
     "execution_count": 1,
     "metadata": {},
     "output_type": "execute_result"
    }
   ],
   "source": [
    "import pandas as pd\n",
    "tc_boston =  pd.read_csv('./data/truecar_details_boston_ma.csv')\n",
    "tc_boston.head(5)"
   ]
  },
  {
   "cell_type": "code",
   "execution_count": 2,
   "id": "25f3dead",
   "metadata": {},
   "outputs": [],
   "source": [
    "# strip $ and comma from the price column\n",
    "tc_boston['sales_price'] = tc_boston['list_price'].str.replace('$','').str.replace(',','').astype(float)"
   ]
  },
  {
   "cell_type": "code",
   "execution_count": null,
   "id": "fec03b9e",
   "metadata": {},
   "outputs": [
    {
     "name": "stdout",
     "output_type": "stream",
     "text": [
      "Average price for all cars: 17133.27\n"
     ]
    }
   ],
   "source": [
    "# Calculate average price for all cars\n",
    "avg_price = tc_boston['sales_price'].mean()\n",
    "print(f\"Average price for all cars: {avg_price:.2f}\")"
   ]
  },
  {
   "cell_type": "code",
   "execution_count": null,
   "id": "c96a309d",
   "metadata": {},
   "outputs": [
    {
     "name": "stdout",
     "output_type": "stream",
     "text": [
      "Color count:\n"
     ]
    },
    {
     "data": {
      "application/vnd.microsoft.datawrangler.viewer.v0+json": {
       "columns": [
        {
         "name": "index",
         "rawType": "int64",
         "type": "integer"
        },
        {
         "name": "exterior",
         "rawType": "object",
         "type": "string"
        },
        {
         "name": "count",
         "rawType": "int64",
         "type": "integer"
        }
       ],
       "conversionMethod": "pd.DataFrame",
       "ref": "18bbadbf-a5ea-4c4a-a07f-25e4ae125994",
       "rows": [
        [
         "0",
         "Black",
         "505"
        ],
        [
         "1",
         "Gray",
         "416"
        ],
        [
         "2",
         "Oxford White",
         "348"
        ],
        [
         "3",
         "Granite Crystal Metallic Clearcoat",
         "317"
        ],
        [
         "4",
         "Silver Ice Metallic",
         "238"
        ],
        [
         "5",
         "Tuxedo Black",
         "224"
        ],
        [
         "6",
         "Summit White",
         "183"
        ],
        [
         "7",
         "Diamond Black Crystal Pearlcoat",
         "176"
        ],
        [
         "8",
         "Ice Silver Metallic",
         "168"
        ],
        [
         "9",
         "Silver",
         "163"
        ],
        [
         "10",
         "Mosaic Black Metallic",
         "160"
        ],
        [
         "11",
         "Firecracker Red Clearcoat",
         "155"
        ],
        [
         "12",
         "Ingot Silver Metallic",
         "154"
        ],
        [
         "13",
         "Shadow Gray Metallic",
         "154"
        ],
        [
         "14",
         "Mineral Gray Metallic",
         "153"
        ],
        [
         "15",
         "Frozen White",
         "153"
        ],
        [
         "16",
         "Shimmering White",
         "152"
        ],
        [
         "17",
         "Bright White",
         "152"
        ],
        [
         "18",
         "Sterling Gray Metallic",
         "151"
        ],
        [
         "19",
         "Daytona Gray Pearl Effect",
         "151"
        ],
        [
         "20",
         "Diamond Slate",
         "151"
        ],
        [
         "21",
         "Black Onyx Crystal Pearlcoat",
         "151"
        ],
        [
         "22",
         "Crystal White Pearl",
         "97"
        ],
        [
         "23",
         "Shadow Black",
         "93"
        ],
        [
         "24",
         "Carbonized Gray Metallic",
         "88"
        ],
        [
         "25",
         "Diamond White Metallic",
         "82"
        ],
        [
         "26",
         "Cosmos Black Metallic",
         "80"
        ],
        [
         "27",
         "Chalk White",
         "79"
        ],
        [
         "28",
         "Billet Silver Metallic Clearcoat",
         "79"
        ],
        [
         "29",
         "Lunar White",
         "79"
        ],
        [
         "30",
         "Fresh Powder",
         "75"
        ],
        [
         "31",
         "Bright White Clearcoat",
         "38"
        ],
        [
         "32",
         "Gun Metallic",
         "27"
        ],
        [
         "33",
         "White",
         "26"
        ],
        [
         "34",
         "Magnetic Gray Metallic",
         "23"
        ],
        [
         "35",
         "Black Clearcoat",
         "19"
        ],
        [
         "36",
         "Platinum White Pearl",
         "18"
        ],
        [
         "37",
         "Jet Black",
         "16"
        ],
        [
         "38",
         "Super Black",
         "16"
        ],
        [
         "39",
         "Midnight Black Metallic",
         "16"
        ],
        [
         "40",
         "Crystal Black Pearl",
         "15"
        ],
        [
         "41",
         "Agate Black Metallic",
         "15"
        ],
        [
         "42",
         "Modern Steel Metallic",
         "14"
        ],
        [
         "43",
         "Snow White Pearl",
         "14"
        ],
        [
         "44",
         "Lunar Silver Metallic",
         "14"
        ],
        [
         "45",
         "Pearl White Tricoat",
         "13"
        ],
        [
         "46",
         "Brilliant Silver",
         "13"
        ],
        [
         "47",
         "Black Sapphire Metallic",
         "12"
        ],
        [
         "48",
         "Crystal Black Silica",
         "12"
        ],
        [
         "49",
         "Onyx Black",
         "11"
        ]
       ],
       "shape": {
        "columns": 2,
        "rows": 418
       }
      },
      "text/html": [
       "<div>\n",
       "<style scoped>\n",
       "    .dataframe tbody tr th:only-of-type {\n",
       "        vertical-align: middle;\n",
       "    }\n",
       "\n",
       "    .dataframe tbody tr th {\n",
       "        vertical-align: top;\n",
       "    }\n",
       "\n",
       "    .dataframe thead th {\n",
       "        text-align: right;\n",
       "    }\n",
       "</style>\n",
       "<table border=\"1\" class=\"dataframe\">\n",
       "  <thead>\n",
       "    <tr style=\"text-align: right;\">\n",
       "      <th></th>\n",
       "      <th>exterior</th>\n",
       "      <th>count</th>\n",
       "    </tr>\n",
       "  </thead>\n",
       "  <tbody>\n",
       "    <tr>\n",
       "      <th>0</th>\n",
       "      <td>Black</td>\n",
       "      <td>505</td>\n",
       "    </tr>\n",
       "    <tr>\n",
       "      <th>1</th>\n",
       "      <td>Gray</td>\n",
       "      <td>416</td>\n",
       "    </tr>\n",
       "    <tr>\n",
       "      <th>2</th>\n",
       "      <td>Oxford White</td>\n",
       "      <td>348</td>\n",
       "    </tr>\n",
       "    <tr>\n",
       "      <th>3</th>\n",
       "      <td>Granite Crystal Metallic Clearcoat</td>\n",
       "      <td>317</td>\n",
       "    </tr>\n",
       "    <tr>\n",
       "      <th>4</th>\n",
       "      <td>Silver Ice Metallic</td>\n",
       "      <td>238</td>\n",
       "    </tr>\n",
       "    <tr>\n",
       "      <th>...</th>\n",
       "      <td>...</td>\n",
       "      <td>...</td>\n",
       "    </tr>\n",
       "    <tr>\n",
       "      <th>413</th>\n",
       "      <td>Rhodium White Metallic</td>\n",
       "      <td>1</td>\n",
       "    </tr>\n",
       "    <tr>\n",
       "      <th>414</th>\n",
       "      <td>Still Night Pearl</td>\n",
       "      <td>1</td>\n",
       "    </tr>\n",
       "    <tr>\n",
       "      <th>415</th>\n",
       "      <td>Space White Metallic</td>\n",
       "      <td>1</td>\n",
       "    </tr>\n",
       "    <tr>\n",
       "      <th>416</th>\n",
       "      <td>Sapphire Blue</td>\n",
       "      <td>1</td>\n",
       "    </tr>\n",
       "    <tr>\n",
       "      <th>417</th>\n",
       "      <td>Slate Blue Pearlcoat</td>\n",
       "      <td>1</td>\n",
       "    </tr>\n",
       "  </tbody>\n",
       "</table>\n",
       "<p>418 rows × 2 columns</p>\n",
       "</div>"
      ],
      "text/plain": [
       "                               exterior  count\n",
       "0                                 Black    505\n",
       "1                                  Gray    416\n",
       "2                          Oxford White    348\n",
       "3    Granite Crystal Metallic Clearcoat    317\n",
       "4                   Silver Ice Metallic    238\n",
       "..                                  ...    ...\n",
       "413              Rhodium White Metallic      1\n",
       "414                   Still Night Pearl      1\n",
       "415                Space White Metallic      1\n",
       "416                       Sapphire Blue      1\n",
       "417                Slate Blue Pearlcoat      1\n",
       "\n",
       "[418 rows x 2 columns]"
      ]
     },
     "execution_count": 5,
     "metadata": {},
     "output_type": "execute_result"
    }
   ],
   "source": [
    "# get the exterior color and count of each color as a DataFrame\n",
    "\n",
    "exterior_color_count = tc_boston['exterior'].value_counts().reset_index()\n",
    "print(\"Exterior Color count:\")\n",
    "exterior_color_count"
   ]
  },
  {
   "cell_type": "code",
   "execution_count": 6,
   "id": "02db78ea",
   "metadata": {},
   "outputs": [
    {
     "name": "stdout",
     "output_type": "stream",
     "text": [
      "Interior Color count:\n"
     ]
    },
    {
     "data": {
      "application/vnd.microsoft.datawrangler.viewer.v0+json": {
       "columns": [
        {
         "name": "index",
         "rawType": "int64",
         "type": "integer"
        },
        {
         "name": "interior",
         "rawType": "object",
         "type": "string"
        },
        {
         "name": "count",
         "rawType": "int64",
         "type": "integer"
        }
       ],
       "conversionMethod": "pd.DataFrame",
       "ref": "ff6010a3-d1e0-4e3f-9aae-cfa4edd08dc6",
       "rows": [
        [
         "0",
         "Black",
         "2121"
        ],
        [
         "1",
         "Gray",
         "790"
        ],
        [
         "2",
         "Jet Black",
         "468"
        ],
        [
         "3",
         "Beige",
         "323"
        ],
        [
         "4",
         "Charcoal Black",
         "310"
        ],
        [
         "5",
         "Black/Light Graystone",
         "305"
        ],
        [
         "6",
         "Ebony",
         "195"
        ],
        [
         "7",
         "Unknown",
         "184"
        ],
        [
         "8",
         "Graphite",
         "166"
        ],
        [
         "9",
         "Medium Ash Gray",
         "153"
        ],
        [
         "10",
         "Dark Slate Gray Interior",
         "151"
        ],
        [
         "11",
         "Jet Black/Jet Black",
         "151"
        ],
        [
         "12",
         "Ski Gray/Indigo",
         "151"
        ],
        [
         "13",
         "Dark Palazzo",
         "151"
        ],
        [
         "14",
         "Charcoal",
         "105"
        ],
        [
         "15",
         "Off-Black",
         "80"
        ],
        [
         "16",
         "Awd",
         "79"
        ],
        [
         "17",
         "Sandstone",
         "77"
        ],
        [
         "18",
         "Grey",
         "76"
        ],
        [
         "19",
         "Titan Black",
         "21"
        ],
        [
         "20",
         "Slate Black",
         "17"
        ],
        [
         "21",
         "Tan",
         "11"
        ],
        [
         "22",
         "Brown",
         "10"
        ],
        [
         "23",
         "Global Black",
         "10"
        ],
        [
         "24",
         "Carbon Black",
         "9"
        ],
        [
         "25",
         "Ivory",
         "9"
        ],
        [
         "26",
         "Ebony Black",
         "9"
        ],
        [
         "27",
         "Cognac",
         "8"
        ],
        [
         "28",
         "Black Onyx",
         "8"
        ],
        [
         "29",
         "Dark Palazzo Gray",
         "7"
        ],
        [
         "30",
         "Sport",
         "7"
        ],
        [
         "31",
         "Light Gray",
         "7"
        ],
        [
         "32",
         "Medium Dark Slate",
         "6"
        ],
        [
         "33",
         "Dark Slate Gray",
         "6"
        ],
        [
         "34",
         "Medium Earth Gray",
         "6"
        ],
        [
         "35",
         "Ash",
         "5"
        ],
        [
         "36",
         "Black Graphite",
         "5"
        ],
        [
         "37",
         "Cement",
         "5"
        ],
        [
         "38",
         "Almond",
         "5"
        ],
        [
         "39",
         "Black W/Orange Stitching",
         "4"
        ],
        [
         "40",
         "Satin Black",
         "4"
        ],
        [
         "41",
         "Melange/Lt Gray",
         "4"
        ],
        [
         "42",
         "Red",
         "4"
        ],
        [
         "43",
         "Dark Earth Gray",
         "4"
        ],
        [
         "44",
         "Black W/Medium Dark Slate",
         "4"
        ],
        [
         "45",
         "Medium Pewter",
         "3"
        ],
        [
         "46",
         "Whisper Beige With Gideon Accents",
         "3"
        ],
        [
         "47",
         "Black/Medium Dark Slate",
         "3"
        ],
        [
         "48",
         "Jet Black/Nightshift Blue",
         "3"
        ],
        [
         "49",
         "Dark Gray",
         "3"
        ]
       ],
       "shape": {
        "columns": 2,
        "rows": 199
       }
      },
      "text/html": [
       "<div>\n",
       "<style scoped>\n",
       "    .dataframe tbody tr th:only-of-type {\n",
       "        vertical-align: middle;\n",
       "    }\n",
       "\n",
       "    .dataframe tbody tr th {\n",
       "        vertical-align: top;\n",
       "    }\n",
       "\n",
       "    .dataframe thead th {\n",
       "        text-align: right;\n",
       "    }\n",
       "</style>\n",
       "<table border=\"1\" class=\"dataframe\">\n",
       "  <thead>\n",
       "    <tr style=\"text-align: right;\">\n",
       "      <th></th>\n",
       "      <th>interior</th>\n",
       "      <th>count</th>\n",
       "    </tr>\n",
       "  </thead>\n",
       "  <tbody>\n",
       "    <tr>\n",
       "      <th>0</th>\n",
       "      <td>Black</td>\n",
       "      <td>2121</td>\n",
       "    </tr>\n",
       "    <tr>\n",
       "      <th>1</th>\n",
       "      <td>Gray</td>\n",
       "      <td>790</td>\n",
       "    </tr>\n",
       "    <tr>\n",
       "      <th>2</th>\n",
       "      <td>Jet Black</td>\n",
       "      <td>468</td>\n",
       "    </tr>\n",
       "    <tr>\n",
       "      <th>3</th>\n",
       "      <td>Beige</td>\n",
       "      <td>323</td>\n",
       "    </tr>\n",
       "    <tr>\n",
       "      <th>4</th>\n",
       "      <td>Charcoal Black</td>\n",
       "      <td>310</td>\n",
       "    </tr>\n",
       "    <tr>\n",
       "      <th>...</th>\n",
       "      <td>...</td>\n",
       "      <td>...</td>\n",
       "    </tr>\n",
       "    <tr>\n",
       "      <th>194</th>\n",
       "      <td>Alpine</td>\n",
       "      <td>1</td>\n",
       "    </tr>\n",
       "    <tr>\n",
       "      <th>195</th>\n",
       "      <td>Charcoal Sport</td>\n",
       "      <td>1</td>\n",
       "    </tr>\n",
       "    <tr>\n",
       "      <th>196</th>\n",
       "      <td>Wheat</td>\n",
       "      <td>1</td>\n",
       "    </tr>\n",
       "    <tr>\n",
       "      <th>197</th>\n",
       "      <td>Jet Black/Adrenaline Red</td>\n",
       "      <td>1</td>\n",
       "    </tr>\n",
       "    <tr>\n",
       "      <th>198</th>\n",
       "      <td>Dark Gray/Camel</td>\n",
       "      <td>1</td>\n",
       "    </tr>\n",
       "  </tbody>\n",
       "</table>\n",
       "<p>199 rows × 2 columns</p>\n",
       "</div>"
      ],
      "text/plain": [
       "                     interior  count\n",
       "0                       Black   2121\n",
       "1                        Gray    790\n",
       "2                   Jet Black    468\n",
       "3                       Beige    323\n",
       "4              Charcoal Black    310\n",
       "..                        ...    ...\n",
       "194                    Alpine      1\n",
       "195            Charcoal Sport      1\n",
       "196                     Wheat      1\n",
       "197  Jet Black/Adrenaline Red      1\n",
       "198           Dark Gray/Camel      1\n",
       "\n",
       "[199 rows x 2 columns]"
      ]
     },
     "execution_count": 6,
     "metadata": {},
     "output_type": "execute_result"
    }
   ],
   "source": [
    "interior_color_count = tc_boston['interior'].value_counts().reset_index()\n",
    "print(\"Interior Color count:\")\n",
    "interior_color_count"
   ]
  },
  {
   "cell_type": "code",
   "execution_count": 12,
   "id": "a9b24b23",
   "metadata": {},
   "outputs": [
    {
     "data": {
      "image/png": "[encoded data removed]",
      "text/plain": [
       "<Figure size 1000x700 with 1 Axes>"
      ]
     },
     "metadata": {},
     "output_type": "display_data"
    }
   ],
   "source": [
    "# matplotlib histogram of the sales price\n",
    "import matplotlib.pyplot as plt\n",
    "import seaborn as sns\n",
    "\n",
    "plt.figure(figsize=(10, 7))\n",
    "\n",
    "sns.histplot(tc_boston['sales_price'], bins=40, kde=True, color='#336699', edgecolor='#474747', alpha=0.7)   \n",
    "plt.title('Sales Price Distribution', fontsize=14, fontweight='bold', loc='left') # R G B 00 00 00 - FF FF FF\n",
    "plt.xlabel('Sales Price', fontsize=12, fontweight='bold', color = \"black\")\n",
    "plt.ylabel('Frequency', fontsize=12, fontweight='bold', color = \"black\")\n",
    "plt.grid(False)\n",
    "plt.show()"
   ]
  },
  {
   "cell_type": "code",
   "execution_count": 15,
   "id": "74de5e80",
   "metadata": {},
   "outputs": [
    {
     "data": {
      "image/png": "[encoded data removed]",
      "text/plain": [
       "<Figure size 1000x700 with 1 Axes>"
      ]
     },
     "metadata": {},
     "output_type": "display_data"
    }
   ],
   "source": [
    "import numpy as np\n",
    "# matplotlib histogram of the log of sales price\n",
    "plt.figure(figsize=(10, 7))\n",
    "sns.histplot(tc_boston['sales_price'].apply(lambda x: np.log(x)), bins=30, kde=True, color='#336699', edgecolor='#474747', alpha=0.7)\n",
    "plt.title('Log of Sales Price Distribution', fontsize=14, fontweight='bold', loc='left') # R G B 00 00 00 - FF FF FF\n",
    "plt.xlabel('Log of Sales Price', fontsize=12, fontweight='bold', color = \"black\")\n",
    "plt.ylabel('Frequency', fontsize=12, fontweight='bold', color = \"black\")\n",
    "plt.grid(False)\n",
    "plt.show()"
   ]
  },
  {
   "cell_type": "code",
   "execution_count": 21,
   "id": "c887524f",
   "metadata": {},
   "outputs": [
    {
     "data": {
      "image/png": "[encoded data removed]",
      "text/plain": [
       "<Figure size 2000x700 with 2 Axes>"
      ]
     },
     "metadata": {},
     "output_type": "display_data"
    }
   ],
   "source": [
    "plt.subplots(1, 2, figsize=(20, 7))\n",
    "plt.subplot(1, 2, 1)\n",
    "sns.histplot(tc_boston['sales_price'], bins=40, kde=True, color='#336699', edgecolor='#474747', alpha=0.7)   \n",
    "plt.title('Sales Price Distribution', fontsize=14, fontweight='bold', loc='left') # R G B 00 00 00 - FF FF FF\n",
    "plt.xlabel('Sales Price', fontsize=12, fontweight='bold', color = \"black\")\n",
    "plt.ylabel('Frequency', fontsize=12, fontweight='bold', color = \"black\")\n",
    "plt.grid(False)\n",
    "plt.subplot(1, 2, 2)\n",
    "sns.histplot(tc_boston['sales_price'].apply(lambda x: np.log(x)), bins=30, kde=True, color='#336699', edgecolor='#474747', alpha=0.7)\n",
    "plt.title('Log of Sales Price Distribution', fontsize=14, fontweight='bold', loc='left') # R G B 00 00 00 - FF FF FF\n",
    "plt.xlabel('Log of Sales Price', fontsize=12, fontweight='bold', color = \"black\")\n",
    "plt.ylabel('Frequency', fontsize=12, fontweight='bold', color = \"black\")\n",
    "plt.grid(False)\n",
    "\n",
    "\n",
    "plt.show()"
   ]
  },
  {
   "cell_type": "code",
   "execution_count": 24,
   "id": "3372d20a",
   "metadata": {},
   "outputs": [
    {
     "data": {
      "application/vnd.plotly.v1+json": {
       "config": {
        "plotlyServerURL": "https://plot.ly"
       },
       "data": [
        {
         "bingroup": "x",
         "hovertemplate": "sales_price=%{x}<br>count=%{y}<extra></extra>",
         "legendgroup": "",
         "marker": {
          "color": "#336699",
          "line": {
           "color": "#474747",
           "width": 1.5
          },
          "pattern": {
           "shape": ""
          }
         },
         "name": "",
         "nbinsx": 100,
         "opacity": 0.7,
         "orientation": "v",
         "showlegend": false,
         "type": "histogram",
         "x": {
          "bdata": "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",
          "dtype": "f8"
         },
         "xaxis": "x",
         "yaxis": "y"
        }
       ],
       "layout": {
        "barmode": "relative",
        "legend": {
         "tracegroupgap": 0
        },
        "template": {
         "data": {
          "bar": [
           {
            "error_x": {
             "color": "#2a3f5f"
            },
            "error_y": {
             "color": "#2a3f5f"
            },
            "marker": {
             "line": {
              "color": "#E5ECF6",
              "width": 0.5
             },
             "pattern": {
              "fillmode": "overlay",
              "size": 10,
              "solidity": 0.2
             }
            },
            "type": "bar"
           }
          ],
          "barpolar": [
           {
            "marker": {
             "line": {
              "color": "#E5ECF6",
              "width": 0.5
             },
             "pattern": {
              "fillmode": "overlay",
              "size": 10,
              "solidity": 0.2
             }
            },
            "type": "barpolar"
           }
          ],
          "carpet": [
           {
            "aaxis": {
             "endlinecolor": "#2a3f5f",
             "gridcolor": "white",
             "linecolor": "white",
             "minorgridcolor": "white",
             "startlinecolor": "#2a3f5f"
            },
            "baxis": {
             "endlinecolor": "#2a3f5f",
             "gridcolor": "white",
             "linecolor": "white",
             "minorgridcolor": "white",
             "startlinecolor": "#2a3f5f"
            },
            "type": "carpet"
           }
          ],
          "choropleth": [
           {
            "colorbar": {
             "outlinewidth": 0,
             "ticks": ""
            },
            "type": "choropleth"
           }
          ],
          "contour": [
           {
            "colorbar": {
             "outlinewidth": 0,
             "ticks": ""
            },
            "colorscale": [
             [
              0,
              "#0d0887"
             ],
             [
              0.1111111111111111,
              "#46039f"
             ],
             [
              0.2222222222222222,
              "#7201a8"
             ],
             [
              0.3333333333333333,
              "#9c179e"
             ],
             [
              0.4444444444444444,
              "#bd3786"
             ],
             [
              0.5555555555555556,
              "#d8576b"
             ],
             [
              0.6666666666666666,
              "#ed7953"
             ],
             [
              0.7777777777777778,
              "#fb9f3a"
             ],
             [
              0.8888888888888888,
              "#fdca26"
             ],
             [
              1,
              "#f0f921"
             ]
            ],
            "type": "contour"
           }
          ],
          "contourcarpet": [
           {
            "colorbar": {
             "outlinewidth": 0,
             "ticks": ""
            },
            "type": "contourcarpet"
           }
          ],
          "heatmap": [
           {
            "colorbar": {
             "outlinewidth": 0,
             "ticks": ""
            },
            "colorscale": [
             [
              0,
              "#0d0887"
             ],
             [
              0.1111111111111111,
              "#46039f"
             ],
             [
              0.2222222222222222,
              "#7201a8"
             ],
             [
              0.3333333333333333,
              "#9c179e"
             ],
             [
              0.4444444444444444,
              "#bd3786"
             ],
             [
              0.5555555555555556,
              "#d8576b"
             ],
             [
              0.6666666666666666,
              "#ed7953"
             ],
             [
              0.7777777777777778,
              "#fb9f3a"
             ],
             [
              0.8888888888888888,
              "#fdca26"
             ],
             [
              1,
              "#f0f921"
             ]
            ],
            "type": "heatmap"
           }
          ],
          "histogram": [
           {
            "marker": {
             "pattern": {
              "fillmode": "overlay",
              "size": 10,
              "solidity": 0.2
             }
            },
            "type": "histogram"
           }
          ],
          "histogram2d": [
           {
            "colorbar": {
             "outlinewidth": 0,
             "ticks": ""
            },
            "colorscale": [
             [
              0,
              "#0d0887"
             ],
             [
              0.1111111111111111,
              "#46039f"
             ],
             [
              0.2222222222222222,
              "#7201a8"
             ],
             [
              0.3333333333333333,
              "#9c179e"
             ],
             [
              0.4444444444444444,
              "#bd3786"
             ],
             [
              0.5555555555555556,
              "#d8576b"
             ],
             [
              0.6666666666666666,
              "#ed7953"
             ],
             [
              0.7777777777777778,
              "#fb9f3a"
             ],
             [
              0.8888888888888888,
              "#fdca26"
             ],
             [
              1,
              "#f0f921"
             ]
            ],
            "type": "histogram2d"
           }
          ],
          "histogram2dcontour": [
           {
            "colorbar": {
             "outlinewidth": 0,
             "ticks": ""
            },
            "colorscale": [
             [
              0,
              "#0d0887"
             ],
             [
              0.1111111111111111,
              "#46039f"
             ],
             [
              0.2222222222222222,
              "#7201a8"
             ],
             [
              0.3333333333333333,
              "#9c179e"
             ],
             [
              0.4444444444444444,
              "#bd3786"
             ],
             [
              0.5555555555555556,
              "#d8576b"
             ],
             [
              0.6666666666666666,
              "#ed7953"
             ],
             [
              0.7777777777777778,
              "#fb9f3a"
             ],
             [
              0.8888888888888888,
              "#fdca26"
             ],
             [
              1,
              "#f0f921"
             ]
            ],
            "type": "histogram2dcontour"
           }
          ],
          "mesh3d": [
           {
            "colorbar": {
             "outlinewidth": 0,
             "ticks": ""
            },
            "type": "mesh3d"
           }
          ],
          "parcoords": [
           {
            "line": {
             "colorbar": {
              "outlinewidth": 0,
              "ticks": ""
             }
            },
            "type": "parcoords"
           }
          ],
          "pie": [
           {
            "automargin": true,
            "type": "pie"
           }
          ],
          "scatter": [
           {
            "fillpattern": {
             "fillmode": "overlay",
             "size": 10,
             "solidity": 0.2
            },
            "type": "scatter"
           }
          ],
          "scatter3d": [
           {
            "line": {
             "colorbar": {
              "outlinewidth": 0,
              "ticks": ""
             }
            },
            "marker": {
             "colorbar": {
              "outlinewidth": 0,
              "ticks": ""
             }
            },
            "type": "scatter3d"
           }
          ],
          "scattercarpet": [
           {
            "marker": {
             "colorbar": {
              "outlinewidth": 0,
              "ticks": ""
             }
            },
            "type": "scattercarpet"
           }
          ],
          "scattergeo": [
           {
            "marker": {
             "colorbar": {
              "outlinewidth": 0,
              "ticks": ""
             }
            },
            "type": "scattergeo"
           }
          ],
          "scattergl": [
           {
            "marker": {
             "colorbar": {
              "outlinewidth": 0,
              "ticks": ""
             }
            },
            "type": "scattergl"
           }
          ],
          "scattermap": [
           {
            "marker": {
             "colorbar": {
              "outlinewidth": 0,
              "ticks": ""
             }
            },
            "type": "scattermap"
           }
          ],
          "scattermapbox": [
           {
            "marker": {
             "colorbar": {
              "outlinewidth": 0,
              "ticks": ""
             }
            },
            "type": "scattermapbox"
           }
          ],
          "scatterpolar": [
           {
            "marker": {
             "colorbar": {
              "outlinewidth": 0,
              "ticks": ""
             }
            },
            "type": "scatterpolar"
           }
          ],
          "scatterpolargl": [
           {
            "marker": {
             "colorbar": {
              "outlinewidth": 0,
              "ticks": ""
             }
            },
            "type": "scatterpolargl"
           }
          ],
          "scatterternary": [
           {
            "marker": {
             "colorbar": {
              "outlinewidth": 0,
              "ticks": ""
             }
            },
            "type": "scatterternary"
           }
          ],
          "surface": [
           {
            "colorbar": {
             "outlinewidth": 0,
             "ticks": ""
            },
            "colorscale": [
             [
              0,
              "#0d0887"
             ],
             [
              0.1111111111111111,
              "#46039f"
             ],
             [
              0.2222222222222222,
              "#7201a8"
             ],
             [
              0.3333333333333333,
              "#9c179e"
             ],
             [
              0.4444444444444444,
              "#bd3786"
             ],
             [
              0.5555555555555556,
              "#d8576b"
             ],
             [
              0.6666666666666666,
              "#ed7953"
             ],
             [
              0.7777777777777778,
              "#fb9f3a"
             ],
             [
              0.8888888888888888,
              "#fdca26"
             ],
             [
              1,
              "#f0f921"
             ]
            ],
            "type": "surface"
           }
          ],
          "table": [
           {
            "cells": {
             "fill": {
              "color": "#EBF0F8"
             },
             "line": {
              "color": "white"
             }
            },
            "header": {
             "fill": {
              "color": "#C8D4E3"
             },
             "line": {
              "color": "white"
             }
            },
            "type": "table"
           }
          ]
         },
         "layout": {
          "annotationdefaults": {
           "arrowcolor": "#2a3f5f",
           "arrowhead": 0,
           "arrowwidth": 1
          },
          "autotypenumbers": "strict",
          "coloraxis": {
           "colorbar": {
            "outlinewidth": 0,
            "ticks": ""
           }
          },
          "colorscale": {
           "diverging": [
            [
             0,
             "#8e0152"
            ],
            [
             0.1,
             "#c51b7d"
            ],
            [
             0.2,
             "#de77ae"
            ],
            [
             0.3,
             "#f1b6da"
            ],
            [
             0.4,
             "#fde0ef"
            ],
            [
             0.5,
             "#f7f7f7"
            ],
            [
             0.6,
             "#e6f5d0"
            ],
            [
             0.7,
             "#b8e186"
            ],
            [
             0.8,
             "#7fbc41"
            ],
            [
             0.9,
             "#4d9221"
            ],
            [
             1,
             "#276419"
            ]
           ],
           "sequential": [
            [
             0,
             "#0d0887"
            ],
            [
             0.1111111111111111,
             "#46039f"
            ],
            [
             0.2222222222222222,
             "#7201a8"
            ],
            [
             0.3333333333333333,
             "#9c179e"
            ],
            [
             0.4444444444444444,
             "#bd3786"
            ],
            [
             0.5555555555555556,
             "#d8576b"
            ],
            [
             0.6666666666666666,
             "#ed7953"
            ],
            [
             0.7777777777777778,
             "#fb9f3a"
            ],
            [
             0.8888888888888888,
             "#fdca26"
            ],
            [
             1,
             "#f0f921"
            ]
           ],
           "sequentialminus": [
            [
             0,
             "#0d0887"
            ],
            [
             0.1111111111111111,
             "#46039f"
            ],
            [
             0.2222222222222222,
             "#7201a8"
            ],
            [
             0.3333333333333333,
             "#9c179e"
            ],
            [
             0.4444444444444444,
             "#bd3786"
            ],
            [
             0.5555555555555556,
             "#d8576b"
            ],
            [
             0.6666666666666666,
             "#ed7953"
            ],
            [
             0.7777777777777778,
             "#fb9f3a"
            ],
            [
             0.8888888888888888,
             "#fdca26"
            ],
            [
             1,
             "#f0f921"
            ]
           ]
          },
          "colorway": [
           "#636efa",
           "#EF553B",
           "#00cc96",
           "#ab63fa",
           "#FFA15A",
           "#19d3f3",
           "#FF6692",
           "#B6E880",
           "#FF97FF",
           "#FECB52"
          ],
          "font": {
           "color": "#2a3f5f"
          },
          "geo": {
           "bgcolor": "white",
           "lakecolor": "white",
           "landcolor": "#E5ECF6",
           "showlakes": true,
           "showland": true,
           "subunitcolor": "white"
          },
          "hoverlabel": {
           "align": "left"
          },
          "hovermode": "closest",
          "mapbox": {
           "style": "light"
          },
          "paper_bgcolor": "white",
          "plot_bgcolor": "#E5ECF6",
          "polar": {
           "angularaxis": {
            "gridcolor": "white",
            "linecolor": "white",
            "ticks": ""
           },
           "bgcolor": "#E5ECF6",
           "radialaxis": {
            "gridcolor": "white",
            "linecolor": "white",
            "ticks": ""
           }
          },
          "scene": {
           "xaxis": {
            "backgroundcolor": "#E5ECF6",
            "gridcolor": "white",
            "gridwidth": 2,
            "linecolor": "white",
            "showbackground": true,
            "ticks": "",
            "zerolinecolor": "white"
           },
           "yaxis": {
            "backgroundcolor": "#E5ECF6",
            "gridcolor": "white",
            "gridwidth": 2,
            "linecolor": "white",
            "showbackground": true,
            "ticks": "",
            "zerolinecolor": "white"
           },
           "zaxis": {
            "backgroundcolor": "#E5ECF6",
            "gridcolor": "white",
            "gridwidth": 2,
            "linecolor": "white",
            "showbackground": true,
            "ticks": "",
            "zerolinecolor": "white"
           }
          },
          "shapedefaults": {
           "line": {
            "color": "#2a3f5f"
           }
          },
          "ternary": {
           "aaxis": {
            "gridcolor": "white",
            "linecolor": "white",
            "ticks": ""
           },
           "baxis": {
            "gridcolor": "white",
            "linecolor": "white",
            "ticks": ""
           },
           "bgcolor": "#E5ECF6",
           "caxis": {
            "gridcolor": "white",
            "linecolor": "white",
            "ticks": ""
           }
          },
          "title": {
           "x": 0.05
          },
          "xaxis": {
           "automargin": true,
           "gridcolor": "white",
           "linecolor": "white",
           "ticks": "",
           "title": {
            "standoff": 15
           },
           "zerolinecolor": "white",
           "zerolinewidth": 2
          },
          "yaxis": {
           "automargin": true,
           "gridcolor": "white",
           "linecolor": "white",
           "ticks": "",
           "title": {
            "standoff": 15
           },
           "zerolinecolor": "white",
           "zerolinewidth": 2
          }
         }
        },
        "title": {
         "text": "Sales Price Distribution",
         "x": 0.05
        },
        "xaxis": {
         "anchor": "y",
         "domain": [
          0,
          1
         ],
         "title": {
          "text": "Sales Price"
         }
        },
        "yaxis": {
         "anchor": "x",
         "domain": [
          0,
          1
         ],
         "title": {
          "text": "Frequency"
         }
        }
       }
      }
     },
     "metadata": {},
     "output_type": "display_data"
    }
   ],
   "source": [
    "# plotly histogram of the sales price\n",
    "import plotly.express as px\n",
    "import plotly.graph_objects as go\n",
    "import plotly.io as pio\n",
    "\n",
    "# plotly histograpm of sale price\n",
    "\n",
    "fig = px.histogram(tc_boston, x='sales_price', nbins=100, title='Sales Price Distribution', color_discrete_sequence=['#336699'])\n",
    "fig.update_traces(marker_line_color='#474747', marker_line_width=1.5, opacity=0.7)\n",
    "fig.update_layout(title_x=0.05, xaxis_title='Sales Price', yaxis_title='Frequency')\n",
    "fig.show() "
   ]
  }
 ],
 "metadata": {
  "kernelspec": {
   "display_name": ".venv",
   "language": "python",
   "name": "python3"
  },
  "language_info": {
   "codemirror_mode": {
    "name": "ipython",
    "version": 3
   },
   "file_extension": ".py",
   "mimetype": "text/x-python",
   "name": "python",
   "nbconvert_exporter": "python",
   "pygments_lexer": "ipython3",
   "version": "3.11.9"
  }
 },
 "nbformat": 4,
 "nbformat_minor": 5
}
